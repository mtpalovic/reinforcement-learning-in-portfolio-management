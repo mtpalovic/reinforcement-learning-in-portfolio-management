{
 "cells": [
  {
   "cell_type": "code",
   "execution_count": 1,
   "id": "8b538aab",
   "metadata": {},
   "outputs": [],
   "source": [
    "import numpy as np"
   ]
  },
  {
   "cell_type": "code",
   "execution_count": 144,
   "id": "f31b528c",
   "metadata": {},
   "outputs": [],
   "source": [
    "a = np.array([[12,7,3],[4,5,6],[7,8,9]])\n",
    "b = np.array([[5,8,1,2],[6,7,3,0],[4,5,9,1]])"
   ]
  },
  {
   "cell_type": "code",
   "execution_count": 145,
   "id": "a7579dee",
   "metadata": {},
   "outputs": [],
   "source": [
    "r = np.zeros((3,4),dtype=int)"
   ]
  },
  {
   "cell_type": "code",
   "execution_count": 146,
   "id": "2dd03aa6",
   "metadata": {},
   "outputs": [
    {
     "data": {
      "text/plain": [
       "array([[12,  7,  3],\n",
       "       [ 4,  5,  6],\n",
       "       [ 7,  8,  9]])"
      ]
     },
     "execution_count": 146,
     "metadata": {},
     "output_type": "execute_result"
    }
   ],
   "source": [
    "a"
   ]
  },
  {
   "cell_type": "code",
   "execution_count": 147,
   "id": "df15453a",
   "metadata": {},
   "outputs": [
    {
     "data": {
      "text/plain": [
       "array([[5, 8, 1, 2],\n",
       "       [6, 7, 3, 0],\n",
       "       [4, 5, 9, 1]])"
      ]
     },
     "execution_count": 147,
     "metadata": {},
     "output_type": "execute_result"
    }
   ],
   "source": [
    "b"
   ]
  },
  {
   "cell_type": "code",
   "execution_count": 159,
   "id": "a9833b57",
   "metadata": {},
   "outputs": [],
   "source": [
    "for i in range(len(a),1):\n",
    "    \n",
    "    for j in range(len(b[0]),1):\n",
    "    \n",
    "        for k in range(len(b),1):\n",
    "            \n",
    "            r[i][j] += a[i][k]*b[k][j]"
   ]
  },
  {
   "cell_type": "code",
   "execution_count": 2,
   "id": "7aa26edb",
   "metadata": {},
   "outputs": [
    {
     "data": {
      "text/plain": [
       "99.7"
      ]
     },
     "execution_count": 2,
     "metadata": {},
     "output_type": "execute_result"
    }
   ],
   "source": [
    "i = np.array([1,2,3,4,5])\n",
    "j = np.array([8.40,4.50,5.00,4.70,9.70])\n",
    "q = np.dot(i,j)\n",
    "q"
   ]
  },
  {
   "cell_type": "code",
   "execution_count": 2,
   "id": "0f1446c0",
   "metadata": {},
   "outputs": [
    {
     "data": {
      "text/plain": [
       "[20, 20]"
      ]
     },
     "execution_count": 2,
     "metadata": {},
     "output_type": "execute_result"
    }
   ],
   "source": [
    "a = 2 * [20]\n",
    "a"
   ]
  },
  {
   "cell_type": "code",
   "execution_count": null,
   "id": "a932ad02",
   "metadata": {},
   "outputs": [],
   "source": []
  }
 ],
 "metadata": {
  "kernelspec": {
   "display_name": "Python 3",
   "language": "python",
   "name": "python3"
  },
  "language_info": {
   "codemirror_mode": {
    "name": "ipython",
    "version": 3
   },
   "file_extension": ".py",
   "mimetype": "text/x-python",
   "name": "python",
   "nbconvert_exporter": "python",
   "pygments_lexer": "ipython3",
   "version": "3.8.8"
  }
 },
 "nbformat": 4,
 "nbformat_minor": 5
}
